{
 "cells": [
  {
   "cell_type": "code",
   "execution_count": 18,
   "metadata": {},
   "outputs": [],
   "source": [
    "import pandas as pd\n",
    "import shapely.geometry\n",
    "import geopandas as gpd\n",
    "import matplotlib.pyplot as plt"
   ]
  },
  {
   "cell_type": "code",
   "execution_count": 19,
   "metadata": {},
   "outputs": [],
   "source": [
    "raw = pd.read_csv('UN5/20200305160727890_tiagocpaim@gmail.com_data.csv', index_col=0)"
   ]
  },
  {
   "cell_type": "code",
   "execution_count": 20,
   "metadata": {},
   "outputs": [
    {
     "data": {
      "text/plain": [
       "Index(['Target', 'Indicator', 'SeriesCode', 'SeriesDescription', 'GeoAreaCode',\n",
       "       'GeoAreaName', 'TimePeriod', 'Value', 'Time_Detail', ' UpperBound',\n",
       "       ' LowerBound', ' BasePeriod', ' Source', 'FootNote', 'Nature', 'Units',\n",
       "       '[Age]', '[Location]', '[Reporting Type]', '[Sex]'],\n",
       "      dtype='object')"
      ]
     },
     "execution_count": 20,
     "metadata": {},
     "output_type": "execute_result"
    }
   ],
   "source": [
    "raw.columns"
   ]
  },
  {
   "cell_type": "code",
   "execution_count": 21,
   "metadata": {},
   "outputs": [
    {
     "data": {
      "text/plain": [
       "Target                object\n",
       "Indicator             object\n",
       "SeriesCode            object\n",
       "SeriesDescription     object\n",
       "GeoAreaCode            int64\n",
       "GeoAreaName           object\n",
       "TimePeriod             int64\n",
       "Value                 object\n",
       "Time_Detail           object\n",
       " UpperBound          float64\n",
       " LowerBound          float64\n",
       " BasePeriod          float64\n",
       " Source               object\n",
       "FootNote              object\n",
       "Nature                object\n",
       "Units                 object\n",
       "[Age]                 object\n",
       "[Location]            object\n",
       "[Reporting Type]      object\n",
       "[Sex]                 object\n",
       "dtype: object"
      ]
     },
     "execution_count": 21,
     "metadata": {},
     "output_type": "execute_result"
    }
   ],
   "source": [
    "raw.dtypes"
   ]
  },
  {
   "cell_type": "code",
   "execution_count": 22,
   "metadata": {},
   "outputs": [
    {
     "data": {
      "text/plain": [
       "(24826, 20)"
      ]
     },
     "execution_count": 22,
     "metadata": {},
     "output_type": "execute_result"
    }
   ],
   "source": [
    "raw.shape"
   ]
  },
  {
   "cell_type": "code",
   "execution_count": 23,
   "metadata": {},
   "outputs": [
    {
     "data": {
      "text/plain": [
       "array(['5.1.1', '5.2.1', '5.3.1', '5.3.2', '5.4.1', '5.5.2', '5.5.1',\n",
       "       '5.6.1', '5.b.1', '5.c.1'], dtype=object)"
      ]
     },
     "execution_count": 23,
     "metadata": {},
     "output_type": "execute_result"
    }
   ],
   "source": [
    "raw.Indicator.unique()"
   ]
  },
  {
   "cell_type": "code",
   "execution_count": 24,
   "metadata": {},
   "outputs": [
    {
     "data": {
      "text/html": [
       "<div>\n",
       "<style scoped>\n",
       "    .dataframe tbody tr th:only-of-type {\n",
       "        vertical-align: middle;\n",
       "    }\n",
       "\n",
       "    .dataframe tbody tr th {\n",
       "        vertical-align: top;\n",
       "    }\n",
       "\n",
       "    .dataframe thead th {\n",
       "        text-align: right;\n",
       "    }\n",
       "</style>\n",
       "<table border=\"1\" class=\"dataframe\">\n",
       "  <thead>\n",
       "    <tr style=\"text-align: right;\">\n",
       "      <th></th>\n",
       "      <th>Target</th>\n",
       "      <th>Indicator</th>\n",
       "      <th>SeriesCode</th>\n",
       "      <th>SeriesDescription</th>\n",
       "      <th>GeoAreaCode</th>\n",
       "      <th>GeoAreaName</th>\n",
       "      <th>TimePeriod</th>\n",
       "      <th>Value</th>\n",
       "      <th>Time_Detail</th>\n",
       "      <th>UpperBound</th>\n",
       "      <th>LowerBound</th>\n",
       "      <th>BasePeriod</th>\n",
       "      <th>Source</th>\n",
       "      <th>FootNote</th>\n",
       "      <th>Nature</th>\n",
       "      <th>Units</th>\n",
       "      <th>[Age]</th>\n",
       "      <th>[Location]</th>\n",
       "      <th>[Reporting Type]</th>\n",
       "      <th>[Sex]</th>\n",
       "    </tr>\n",
       "    <tr>\n",
       "      <th>Goal</th>\n",
       "      <th></th>\n",
       "      <th></th>\n",
       "      <th></th>\n",
       "      <th></th>\n",
       "      <th></th>\n",
       "      <th></th>\n",
       "      <th></th>\n",
       "      <th></th>\n",
       "      <th></th>\n",
       "      <th></th>\n",
       "      <th></th>\n",
       "      <th></th>\n",
       "      <th></th>\n",
       "      <th></th>\n",
       "      <th></th>\n",
       "      <th></th>\n",
       "      <th></th>\n",
       "      <th></th>\n",
       "      <th></th>\n",
       "      <th></th>\n",
       "    </tr>\n",
       "  </thead>\n",
       "  <tbody>\n",
       "    <tr>\n",
       "      <td>5</td>\n",
       "      <td>5.2</td>\n",
       "      <td>5.2.1</td>\n",
       "      <td>VC_VAW_MARR</td>\n",
       "      <td>Proportion of ever-partnered women and girls s...</td>\n",
       "      <td>620</td>\n",
       "      <td>Portugal</td>\n",
       "      <td>2012</td>\n",
       "      <td>6.0</td>\n",
       "      <td>2012</td>\n",
       "      <td>NaN</td>\n",
       "      <td>NaN</td>\n",
       "      <td>NaN</td>\n",
       "      <td>calculated by FRA based on available country d...</td>\n",
       "      <td>Women aged 18-74; definition of physical and s...</td>\n",
       "      <td>C</td>\n",
       "      <td>PERCENT</td>\n",
       "      <td>18-50</td>\n",
       "      <td>NaN</td>\n",
       "      <td>G</td>\n",
       "      <td>FEMALE</td>\n",
       "    </tr>\n",
       "  </tbody>\n",
       "</table>\n",
       "</div>"
      ],
      "text/plain": [
       "     Target Indicator   SeriesCode  \\\n",
       "Goal                                 \n",
       "5       5.2     5.2.1  VC_VAW_MARR   \n",
       "\n",
       "                                      SeriesDescription  GeoAreaCode  \\\n",
       "Goal                                                                   \n",
       "5     Proportion of ever-partnered women and girls s...          620   \n",
       "\n",
       "     GeoAreaName  TimePeriod Value Time_Detail   UpperBound   LowerBound  \\\n",
       "Goal                                                                       \n",
       "5       Portugal        2012   6.0        2012          NaN          NaN   \n",
       "\n",
       "       BasePeriod                                             Source  \\\n",
       "Goal                                                                   \n",
       "5             NaN  calculated by FRA based on available country d...   \n",
       "\n",
       "                                               FootNote Nature    Units  \\\n",
       "Goal                                                                      \n",
       "5     Women aged 18-74; definition of physical and s...      C  PERCENT   \n",
       "\n",
       "      [Age] [Location] [Reporting Type]   [Sex]  \n",
       "Goal                                             \n",
       "5     18-50        NaN                G  FEMALE  "
      ]
     },
     "execution_count": 24,
     "metadata": {},
     "output_type": "execute_result"
    }
   ],
   "source": [
    "raw.loc[(raw.Indicator == '5.2.1') & (raw.GeoAreaName == 'Portugal')]#, ['Value', 'SeriesCode', 'SeriesDescription', 'Source', 'FootNote']]"
   ]
  },
  {
   "cell_type": "code",
   "execution_count": 25,
   "metadata": {},
   "outputs": [
    {
     "data": {
      "text/plain": [
       "Indicator\n",
       "5.1.1      216\n",
       "5.2.1      577\n",
       "5.3.1      356\n",
       "5.3.2       37\n",
       "5.4.1     6296\n",
       "5.5.1    13776\n",
       "5.5.2     2747\n",
       "5.6.1      339\n",
       "5.b.1      406\n",
       "5.c.1       76\n",
       "Name: Target, dtype: int64"
      ]
     },
     "execution_count": 25,
     "metadata": {},
     "output_type": "execute_result"
    }
   ],
   "source": [
    "raw.groupby('Indicator').count().loc[:, 'Target']"
   ]
  },
  {
   "cell_type": "code",
   "execution_count": 26,
   "metadata": {},
   "outputs": [],
   "source": [
    "file = raw.groupby('SeriesDescription').agg({'Indicator': 'unique'})"
   ]
  },
  {
   "cell_type": "code",
   "execution_count": 27,
   "metadata": {},
   "outputs": [],
   "source": [
    "file.to_csv('UN5/UN_Indicators_descriptions')"
   ]
  },
  {
   "cell_type": "code",
   "execution_count": 125,
   "metadata": {},
   "outputs": [],
   "source": [
    "pt = gpd.read_file('PRT_adm2.shp')"
   ]
  },
  {
   "cell_type": "code",
   "execution_count": 126,
   "metadata": {},
   "outputs": [
    {
     "ename": "AttributeError",
     "evalue": "'GeoDataFrame' object has no attribute 'TYPE_1'",
     "output_type": "error",
     "traceback": [
      "\u001b[0;31m---------------------------------------------------------------------------\u001b[0m",
      "\u001b[0;31mAttributeError\u001b[0m                            Traceback (most recent call last)",
      "\u001b[0;32m<ipython-input-126-98f7e6c3d692>\u001b[0m in \u001b[0;36m<module>\u001b[0;34m\u001b[0m\n\u001b[0;32m----> 1\u001b[0;31m \u001b[0mpt\u001b[0m \u001b[0;34m=\u001b[0m \u001b[0mpt\u001b[0m\u001b[0;34m.\u001b[0m\u001b[0mloc\u001b[0m\u001b[0;34m[\u001b[0m\u001b[0mpt\u001b[0m\u001b[0;34m.\u001b[0m\u001b[0mTYPE_1\u001b[0m \u001b[0;34m!=\u001b[0m \u001b[0;34m'Regiões autônoma'\u001b[0m\u001b[0;34m]\u001b[0m\u001b[0;34m\u001b[0m\u001b[0;34m\u001b[0m\u001b[0m\n\u001b[0m",
      "\u001b[0;32m~/anaconda3/lib/python3.7/site-packages/pandas/core/generic.py\u001b[0m in \u001b[0;36m__getattr__\u001b[0;34m(self, name)\u001b[0m\n\u001b[1;32m   5177\u001b[0m             \u001b[0;32mif\u001b[0m \u001b[0mself\u001b[0m\u001b[0;34m.\u001b[0m\u001b[0m_info_axis\u001b[0m\u001b[0;34m.\u001b[0m\u001b[0m_can_hold_identifiers_and_holds_name\u001b[0m\u001b[0;34m(\u001b[0m\u001b[0mname\u001b[0m\u001b[0;34m)\u001b[0m\u001b[0;34m:\u001b[0m\u001b[0;34m\u001b[0m\u001b[0;34m\u001b[0m\u001b[0m\n\u001b[1;32m   5178\u001b[0m                 \u001b[0;32mreturn\u001b[0m \u001b[0mself\u001b[0m\u001b[0;34m[\u001b[0m\u001b[0mname\u001b[0m\u001b[0;34m]\u001b[0m\u001b[0;34m\u001b[0m\u001b[0;34m\u001b[0m\u001b[0m\n\u001b[0;32m-> 5179\u001b[0;31m             \u001b[0;32mreturn\u001b[0m \u001b[0mobject\u001b[0m\u001b[0;34m.\u001b[0m\u001b[0m__getattribute__\u001b[0m\u001b[0;34m(\u001b[0m\u001b[0mself\u001b[0m\u001b[0;34m,\u001b[0m \u001b[0mname\u001b[0m\u001b[0;34m)\u001b[0m\u001b[0;34m\u001b[0m\u001b[0;34m\u001b[0m\u001b[0m\n\u001b[0m\u001b[1;32m   5180\u001b[0m \u001b[0;34m\u001b[0m\u001b[0m\n\u001b[1;32m   5181\u001b[0m     \u001b[0;32mdef\u001b[0m \u001b[0m__setattr__\u001b[0m\u001b[0;34m(\u001b[0m\u001b[0mself\u001b[0m\u001b[0;34m,\u001b[0m \u001b[0mname\u001b[0m\u001b[0;34m,\u001b[0m \u001b[0mvalue\u001b[0m\u001b[0;34m)\u001b[0m\u001b[0;34m:\u001b[0m\u001b[0;34m\u001b[0m\u001b[0;34m\u001b[0m\u001b[0m\n",
      "\u001b[0;31mAttributeError\u001b[0m: 'GeoDataFrame' object has no attribute 'TYPE_1'"
     ]
    }
   ],
   "source": [
    "pt = pt.loc[pt.TYPE_1 != 'Regiões autônoma']"
   ]
  },
  {
   "cell_type": "code",
   "execution_count": 127,
   "metadata": {},
   "outputs": [
    {
     "data": {
      "image/png": "[encoded data removed]",
      "text/plain": [
       "<Figure size 432x288 with 1 Axes>"
      ]
     },
     "metadata": {
      "needs_background": "light"
     },
     "output_type": "display_data"
    }
   ],
   "source": [
    "pt.plot(edgecolor = 'red', facecolor = 'Blue')\n",
    "plt.ax = ('off')"
   ]
  },
  {
   "cell_type": "code",
   "execution_count": 31,
   "metadata": {},
   "outputs": [
    {
     "data": {
      "text/html": [
       "<div>\n",
       "<style scoped>\n",
       "    .dataframe tbody tr th:only-of-type {\n",
       "        vertical-align: middle;\n",
       "    }\n",
       "\n",
       "    .dataframe tbody tr th {\n",
       "        vertical-align: top;\n",
       "    }\n",
       "\n",
       "    .dataframe thead th {\n",
       "        text-align: right;\n",
       "    }\n",
       "</style>\n",
       "<table border=\"1\" class=\"dataframe\">\n",
       "  <thead>\n",
       "    <tr style=\"text-align: right;\">\n",
       "      <th></th>\n",
       "      <th>Indicator</th>\n",
       "    </tr>\n",
       "    <tr>\n",
       "      <th>SeriesDescription</th>\n",
       "      <th></th>\n",
       "    </tr>\n",
       "  </thead>\n",
       "  <tbody>\n",
       "    <tr>\n",
       "      <td>Legal frameworks that promote, enforce and monitor gender equality (percentage of achievement, 0 - 100) --  Area 2: violence against women</td>\n",
       "      <td>[5.1.1]</td>\n",
       "    </tr>\n",
       "    <tr>\n",
       "      <td>Legal frameworks that promote, enforce and monitor gender equality (percentage of achievement, 0 - 100) -- Area 1: overarching legal frameworks and public life</td>\n",
       "      <td>[5.1.1]</td>\n",
       "    </tr>\n",
       "    <tr>\n",
       "      <td>Legal frameworks that promote, enforce and monitor gender equality (percentage of achievement, 0 - 100) -- Area 3: employment and economic benefits</td>\n",
       "      <td>[5.1.1]</td>\n",
       "    </tr>\n",
       "    <tr>\n",
       "      <td>Legal frameworks that promote, enforce and monitor gender equality (percentage of achievement, 0 - 100) -- Area 4: marriage and family</td>\n",
       "      <td>[5.1.1]</td>\n",
       "    </tr>\n",
       "    <tr>\n",
       "      <td>Number of seats held by women in national parliaments (number)</td>\n",
       "      <td>[5.5.1]</td>\n",
       "    </tr>\n",
       "    <tr>\n",
       "      <td>Number of seats in national parliaments (number)</td>\n",
       "      <td>[5.5.1]</td>\n",
       "    </tr>\n",
       "    <tr>\n",
       "      <td>Proportion of countries with systems to track and make public allocations for gender equality and women's empowerment (%)</td>\n",
       "      <td>[5.c.1]</td>\n",
       "    </tr>\n",
       "    <tr>\n",
       "      <td>Proportion of elected seats held by women in deliberative bodies of local government (%)</td>\n",
       "      <td>[5.5.1]</td>\n",
       "    </tr>\n",
       "    <tr>\n",
       "      <td>Proportion of ever-partnered women and girls subjected to physical and/or sexual violence by a current or former intimate partner in the previous 12 months, by age (%)</td>\n",
       "      <td>[5.2.1]</td>\n",
       "    </tr>\n",
       "    <tr>\n",
       "      <td>Proportion of girls and women aged 15-49 years who have undergone female genital mutilation/cutting, by age (%)</td>\n",
       "      <td>[5.3.2]</td>\n",
       "    </tr>\n",
       "    <tr>\n",
       "      <td>Proportion of individuals who own a mobile telephone, by sex (%)</td>\n",
       "      <td>[5.b.1]</td>\n",
       "    </tr>\n",
       "    <tr>\n",
       "      <td>Proportion of seats held by women in national parliaments (% of total number of seats)</td>\n",
       "      <td>[5.5.1]</td>\n",
       "    </tr>\n",
       "    <tr>\n",
       "      <td>Proportion of time spent on unpaid care work, by sex, age and location (%)</td>\n",
       "      <td>[5.4.1]</td>\n",
       "    </tr>\n",
       "    <tr>\n",
       "      <td>Proportion of time spent on unpaid domestic chores and care work, by sex, age and location (%)</td>\n",
       "      <td>[5.4.1]</td>\n",
       "    </tr>\n",
       "    <tr>\n",
       "      <td>Proportion of time spent on unpaid domestic chores, by sex, age and location (%)</td>\n",
       "      <td>[5.4.1]</td>\n",
       "    </tr>\n",
       "    <tr>\n",
       "      <td>Proportion of women aged 20-24 years who were married or in a union before age 15 (%)</td>\n",
       "      <td>[5.3.1]</td>\n",
       "    </tr>\n",
       "    <tr>\n",
       "      <td>Proportion of women aged 20-24 years who were married or in a union before age 18 (%)</td>\n",
       "      <td>[5.3.1]</td>\n",
       "    </tr>\n",
       "    <tr>\n",
       "      <td>Proportion of women in managerial positions (%)</td>\n",
       "      <td>[5.5.2]</td>\n",
       "    </tr>\n",
       "    <tr>\n",
       "      <td>Proportion of women in senior and middle management positions (%)</td>\n",
       "      <td>[5.5.2]</td>\n",
       "    </tr>\n",
       "    <tr>\n",
       "      <td>Proportion of women who make their own informed decisions regarding contraceptive use (% of women aged 15-49 years)</td>\n",
       "      <td>[5.6.1]</td>\n",
       "    </tr>\n",
       "    <tr>\n",
       "      <td>Proportion of women who make their own informed decisions regarding reproductive health care (% of women aged 15-49 years)</td>\n",
       "      <td>[5.6.1]</td>\n",
       "    </tr>\n",
       "    <tr>\n",
       "      <td>Proportion of women who make their own informed decisions regarding sexual relations (% of women aged 15-49 years)</td>\n",
       "      <td>[5.6.1]</td>\n",
       "    </tr>\n",
       "    <tr>\n",
       "      <td>Proportion of women who make their own informed decisions regarding sexual relations, contraceptive use and reproductive health care (% of women aged 15-49 years)</td>\n",
       "      <td>[5.6.1]</td>\n",
       "    </tr>\n",
       "  </tbody>\n",
       "</table>\n",
       "</div>"
      ],
      "text/plain": [
       "                                                   Indicator\n",
       "SeriesDescription                                           \n",
       "Legal frameworks that promote, enforce and moni...   [5.1.1]\n",
       "Legal frameworks that promote, enforce and moni...   [5.1.1]\n",
       "Legal frameworks that promote, enforce and moni...   [5.1.1]\n",
       "Legal frameworks that promote, enforce and moni...   [5.1.1]\n",
       "Number of seats held by women in national parli...   [5.5.1]\n",
       "Number of seats in national parliaments (number)     [5.5.1]\n",
       "Proportion of countries with systems to track a...   [5.c.1]\n",
       "Proportion of elected seats held by women in de...   [5.5.1]\n",
       "Proportion of ever-partnered women and girls su...   [5.2.1]\n",
       "Proportion of girls and women aged 15-49 years ...   [5.3.2]\n",
       "Proportion of individuals who own a mobile tele...   [5.b.1]\n",
       "Proportion of seats held by women in national p...   [5.5.1]\n",
       "Proportion of time spent on unpaid care work, b...   [5.4.1]\n",
       "Proportion of time spent on unpaid domestic cho...   [5.4.1]\n",
       "Proportion of time spent on unpaid domestic cho...   [5.4.1]\n",
       "Proportion of women aged 20-24 years who were m...   [5.3.1]\n",
       "Proportion of women aged 20-24 years who were m...   [5.3.1]\n",
       "Proportion of women in managerial positions (%)      [5.5.2]\n",
       "Proportion of women in senior and middle manage...   [5.5.2]\n",
       "Proportion of women who make their own informed...   [5.6.1]\n",
       "Proportion of women who make their own informed...   [5.6.1]\n",
       "Proportion of women who make their own informed...   [5.6.1]\n",
       "Proportion of women who make their own informed...   [5.6.1]"
      ]
     },
     "execution_count": 31,
     "metadata": {},
     "output_type": "execute_result"
    }
   ],
   "source": [
    "file"
   ]
  },
  {
   "cell_type": "code",
   "execution_count": 69,
   "metadata": {},
   "outputs": [],
   "source": [
    "indicators = raw.loc[raw.Indicator == '5.4.1']"
   ]
  },
  {
   "cell_type": "code",
   "execution_count": 70,
   "metadata": {},
   "outputs": [
    {
     "data": {
      "text/plain": [
       "91"
      ]
     },
     "execution_count": 70,
     "metadata": {},
     "output_type": "execute_result"
    }
   ],
   "source": [
    "len(indicators.GeoAreaName.unique())"
   ]
  },
  {
   "cell_type": "code",
   "execution_count": 71,
   "metadata": {},
   "outputs": [
    {
     "data": {
      "text/plain": [
       "(2026, 20)"
      ]
     },
     "execution_count": 71,
     "metadata": {},
     "output_type": "execute_result"
    }
   ],
   "source": [
    "indicators.loc[indicators.SeriesCode == 'SL_DOM_TSPDCW'].shape"
   ]
  },
  {
   "cell_type": "code",
   "execution_count": 72,
   "metadata": {},
   "outputs": [
    {
     "data": {
      "text/plain": [
       "(2053, 20)"
      ]
     },
     "execution_count": 72,
     "metadata": {},
     "output_type": "execute_result"
    }
   ],
   "source": [
    "indicators.loc[indicators.SeriesCode == 'SL_DOM_TSPDDC'].shape"
   ]
  },
  {
   "cell_type": "code",
   "execution_count": 73,
   "metadata": {},
   "outputs": [
    {
     "data": {
      "text/plain": [
       "(2217, 20)"
      ]
     },
     "execution_count": 73,
     "metadata": {},
     "output_type": "execute_result"
    }
   ],
   "source": [
    "indicators.loc[indicators.SeriesCode == 'SL_DOM_TSPD'].shape"
   ]
  },
  {
   "cell_type": "code",
   "execution_count": 74,
   "metadata": {},
   "outputs": [],
   "source": [
    "### The series have a different ammount of data points"
   ]
  },
  {
   "cell_type": "code",
   "execution_count": 75,
   "metadata": {},
   "outputs": [],
   "source": [
    "filtered = indicators.loc[indicators.SeriesCode == 'SL_DOM_TSPDDC']"
   ]
  },
  {
   "cell_type": "code",
   "execution_count": 76,
   "metadata": {},
   "outputs": [
    {
     "data": {
      "text/plain": [
       "Target                  0\n",
       "Indicator               0\n",
       "SeriesCode              0\n",
       "SeriesDescription       0\n",
       "GeoAreaCode             0\n",
       "GeoAreaName             0\n",
       "TimePeriod              0\n",
       "Value                   0\n",
       "Time_Detail             0\n",
       " UpperBound          2053\n",
       " LowerBound          2053\n",
       " BasePeriod          2053\n",
       " Source                 0\n",
       "FootNote             1258\n",
       "Nature                  0\n",
       "Units                   0\n",
       "[Age]                   0\n",
       "[Location]              0\n",
       "[Reporting Type]        0\n",
       "[Sex]                   0\n",
       "dtype: int64"
      ]
     },
     "execution_count": 76,
     "metadata": {},
     "output_type": "execute_result"
    }
   ],
   "source": [
    "filtered.isna().sum()"
   ]
  },
  {
   "cell_type": "code",
   "execution_count": 77,
   "metadata": {},
   "outputs": [
    {
     "data": {
      "text/plain": [
       "(2053, 20)"
      ]
     },
     "execution_count": 77,
     "metadata": {},
     "output_type": "execute_result"
    }
   ],
   "source": [
    "filtered.shape"
   ]
  },
  {
   "cell_type": "code",
   "execution_count": 83,
   "metadata": {},
   "outputs": [
    {
     "data": {
      "text/plain": [
       "array(['MALE', 'FEMALE'], dtype=object)"
      ]
     },
     "execution_count": 83,
     "metadata": {},
     "output_type": "execute_result"
    }
   ],
   "source": [
    "filtered['[Sex]'].unique()"
   ]
  },
  {
   "cell_type": "code",
   "execution_count": 85,
   "metadata": {},
   "outputs": [
    {
     "data": {
      "text/plain": [
       "array(['Albania', 'Algeria', 'Argentina', 'Australia', 'Austria',\n",
       "       'Armenia', 'Belgium', 'Bhutan', 'Brazil', 'Bulgaria', 'Belarus',\n",
       "       'Cameroon', 'Canada', 'Chile', 'China', 'Colombia', 'Costa Rica',\n",
       "       'Denmark', 'Dominican Republic', 'Ecuador', 'El Salvador',\n",
       "       'Ethiopia', 'Estonia', 'Fiji', 'Finland', 'France',\n",
       "       'State of Palestine', 'Germany', 'Ghana', 'Greece', 'Guatemala',\n",
       "       'Honduras', 'China, Hong Kong Special Administrative Region',\n",
       "       'Hungary', 'Iran (Islamic Republic of)', 'Iraq', 'Ireland',\n",
       "       'Italy', 'Japan', 'Kazakhstan', 'Republic of Korea', 'Kyrgyzstan',\n",
       "       \"Lao People's Democratic Republic\", 'Latvia', 'Liberia',\n",
       "       'Lithuania', 'Luxembourg', 'Malaysia', 'Malta', 'Mauritius',\n",
       "       'Mexico', 'Mongolia', 'Republic of Moldova', 'Oman', 'Netherlands',\n",
       "       'New Zealand', 'Norway', 'Pakistan', 'Panama', 'Paraguay', 'Peru',\n",
       "       'Poland', 'Portugal', 'Qatar', 'Réunion', 'Romania',\n",
       "       'Russian Federation', 'Serbia', 'Slovenia', 'South Africa',\n",
       "       'Spain', 'Sweden', 'Switzerland', 'Thailand', 'Tunisia', 'Turkey',\n",
       "       'North Macedonia', 'Egypt',\n",
       "       'United Kingdom of Great Britain and Northern Ireland',\n",
       "       'United Republic of Tanzania', 'United States of America',\n",
       "       'Uruguay'], dtype=object)"
      ]
     },
     "execution_count": 85,
     "metadata": {},
     "output_type": "execute_result"
    }
   ],
   "source": [
    "filtered.GeoAreaName.unique()"
   ]
  },
  {
   "cell_type": "code",
   "execution_count": 86,
   "metadata": {},
   "outputs": [
    {
     "data": {
      "text/plain": [
       "Index(['Target', 'Indicator', 'SeriesCode', 'SeriesDescription', 'GeoAreaCode',\n",
       "       'GeoAreaName', 'TimePeriod', 'Value', 'Time_Detail', ' UpperBound',\n",
       "       ' LowerBound', ' BasePeriod', ' Source', 'FootNote', 'Nature', 'Units',\n",
       "       '[Age]', '[Location]', '[Reporting Type]', '[Sex]'],\n",
       "      dtype='object')"
      ]
     },
     "execution_count": 86,
     "metadata": {},
     "output_type": "execute_result"
    }
   ],
   "source": [
    "filtered.columns"
   ]
  },
  {
   "cell_type": "code",
   "execution_count": null,
   "metadata": {},
   "outputs": [],
   "source": [
    "filtered.Value = filtered.Value.astype(float)"
   ]
  },
  {
   "cell_type": "code",
   "execution_count": 98,
   "metadata": {},
   "outputs": [],
   "source": [
    "#filtered.groupby('GeoAreaName').agg({'Value':'mean'})"
   ]
  },
  {
   "cell_type": "code",
   "execution_count": 100,
   "metadata": {},
   "outputs": [
    {
     "data": {
      "text/plain": [
       "array(['CA', 'C'], dtype=object)"
      ]
     },
     "execution_count": 100,
     "metadata": {},
     "output_type": "execute_result"
    }
   ],
   "source": [
    "filtered.Nature.unique()\n",
    "## Know what Nature means"
   ]
  },
  {
   "cell_type": "code",
   "execution_count": 102,
   "metadata": {},
   "outputs": [
    {
     "data": {
      "text/plain": [
       "array(['PERCENT'], dtype=object)"
      ]
     },
     "execution_count": 102,
     "metadata": {},
     "output_type": "execute_result"
    }
   ],
   "source": [
    "filtered.Units.unique()\n",
    "##drop this"
   ]
  },
  {
   "cell_type": "code",
   "execution_count": 108,
   "metadata": {},
   "outputs": [
    {
     "data": {
      "text/plain": [
       "120"
      ]
     },
     "execution_count": 108,
     "metadata": {},
     "output_type": "execute_result"
    }
   ],
   "source": [
    "len(filtered[' Source'].unique())\n",
    "## do we need to keep our data source?"
   ]
  },
  {
   "cell_type": "code",
   "execution_count": 118,
   "metadata": {},
   "outputs": [
    {
     "data": {
      "text/plain": [
       "array(['ALLAREA', 'RURAL', 'URBAN'], dtype=object)"
      ]
     },
     "execution_count": 118,
     "metadata": {},
     "output_type": "execute_result"
    }
   ],
   "source": [
    "filtered['[Location]'].unique()\n",
    "## we only have rural/urban breakdown or total"
   ]
  },
  {
   "cell_type": "code",
   "execution_count": 121,
   "metadata": {},
   "outputs": [
    {
     "data": {
      "text/plain": [
       "C     1828\n",
       "CA     225\n",
       "Name: Nature, dtype: int64"
      ]
     },
     "execution_count": 121,
     "metadata": {},
     "output_type": "execute_result"
    }
   ],
   "source": [
    "filtered.Nature.value_counts()\n",
    "## dafuq is this"
   ]
  },
  {
   "cell_type": "code",
   "execution_count": 123,
   "metadata": {},
   "outputs": [
    {
     "data": {
      "text/plain": [
       "array(['65+', '10+', '12+', '15-24', '15+', '25-44', '55-64', '45-54',\n",
       "       'ALLAGE', '20-74', '12-24', '65-74', '75-84', '85+', '25-34',\n",
       "       '35-44', '45-64', '15-64', '12-14', '16+', '20+', '20-64', '20-24',\n",
       "       '6+', '10-14', '5+', '14+'], dtype=object)"
      ]
     },
     "execution_count": 123,
     "metadata": {},
     "output_type": "execute_result"
    }
   ],
   "source": [
    "filtered['[Age]'].unique()"
   ]
  },
  {
   "cell_type": "code",
   "execution_count": 128,
   "metadata": {},
   "outputs": [
    {
     "data": {
      "text/plain": [
       "Index(['Target', 'Indicator', 'SeriesCode', 'SeriesDescription', 'GeoAreaCode',\n",
       "       'GeoAreaName', 'TimePeriod', 'Value', 'Time_Detail', ' UpperBound',\n",
       "       ' LowerBound', ' BasePeriod', ' Source', 'FootNote', 'Nature', 'Units',\n",
       "       '[Age]', '[Location]', '[Reporting Type]', '[Sex]'],\n",
       "      dtype='object')"
      ]
     },
     "execution_count": 128,
     "metadata": {},
     "output_type": "execute_result"
    }
   ],
   "source": [
    "filtered.columns"
   ]
  },
  {
   "cell_type": "code",
   "execution_count": 174,
   "metadata": {},
   "outputs": [],
   "source": [
    "column_renamer = {'SeriesDescription' : 'series_description', 'GeoAreaName' : 'country',\n",
    "                  'TimePeriod': 'year', 'Value': 'value', 'Source': 'source', 'Nature':'nature', \n",
    "                  '[Age]': 'age', '[Location]': 'location', '[Sex]': 'sex', }"
   ]
  },
  {
   "cell_type": "code",
   "execution_count": 143,
   "metadata": {},
   "outputs": [],
   "source": [
    "times = filtered.loc[:,['Time_Detail', 'TimePeriod']]"
   ]
  },
  {
   "cell_type": "code",
   "execution_count": 149,
   "metadata": {},
   "outputs": [
    {
     "data": {
      "text/plain": [
       "True"
      ]
     },
     "execution_count": 149,
     "metadata": {},
     "output_type": "execute_result"
    }
   ],
   "source": [
    "sum(times.Time_Detail.astype(int) == times.TimePeriod) == times.shape[0]"
   ]
  },
  {
   "cell_type": "code",
   "execution_count": 164,
   "metadata": {},
   "outputs": [
    {
     "data": {
      "text/plain": [
       "array(['CA', 'C'], dtype=object)"
      ]
     },
     "execution_count": 164,
     "metadata": {},
     "output_type": "execute_result"
    }
   ],
   "source": [
    "filtered.Nature.unique()"
   ]
  },
  {
   "cell_type": "code",
   "execution_count": 165,
   "metadata": {},
   "outputs": [
    {
     "data": {
      "text/plain": [
       "0.0"
      ]
     },
     "execution_count": 165,
     "metadata": {},
     "output_type": "execute_result"
    }
   ],
   "source": [
    "filtered.Nature.isna().sum()/filtered.shape[0]"
   ]
  },
  {
   "cell_type": "code",
   "execution_count": 163,
   "metadata": {},
   "outputs": [
    {
     "data": {
      "text/plain": [
       "Unpaid domestic work might include small amount of time spent on production of goods for own final use.                                                                                                                                                                                                                                                         328\n",
       "Travel related to unpaid domestic work is not included.                                                                                                                                                                                                                                                                                                         160\n",
       "Unpaid domestic work might include small amount of time spent on production of goods for own final use. Travel related to unpaid domestic work is not included.                                                                                                                                                                                                  88\n",
       "Results provided for this questionnaire are produced based on the survey respondents and not weighted.                                                                                                                                                                                                                                                           48\n",
       "Unpaid domestic work includes \"Other activities in the fields of housekeeping and family care\" and \"travel related to other activities in regard to housekeeping and care of family members\" which are overlapping categories and (might) include a certain amount of time belonging to both categories (unpaid domestic work and unpaid care work as well).     44\n",
       "Travel time spent on \"domestic and care work\" is included in domestic work.                                                                                                                                                                                                                                                                                      42\n",
       "Question OPW12 was considered in calculation                                                                                                                                                                                                                                                                                                                     36\n",
       "Unpaid domestic work includes \"travel related to household and family care\".                                                                                                                                                                                                                                                                                     15\n",
       "Unpaid domestic work includes \"Other unpaid work\" and \"Travel related to unpaid work\". Unpaid domestic work might include small amount of time spent on production of goods for own final use.                                                                                                                                                                   12\n",
       "All Qatar is urban.                                                                                                                                                                                                                                                                                                                                              12\n",
       "Travel related to unpaid domestic work is not included. Unpaid domestic work might include small amount of time spent on production of goods for own final use.                                                                                                                                                                                                   4\n",
       "Travel related to unpaid domestic work is not included; unknown age breakdown.                                                                                                                                                                                                                                                                                    2\n",
       "\"Unpaid domestic work\" comprises 'Domestic activities' and 'Purchasing goods and services'.                                                                                                                                                                                                                                                                       2\n",
       "Data include domestic work undertaken for other households.                                                                                                                                                                                                                                                                                                       2\n",
       "Name: FootNote, dtype: int64"
      ]
     },
     "execution_count": 163,
     "metadata": {},
     "output_type": "execute_result"
    }
   ],
   "source": [
    "filtered.FootNote.value_counts()"
   ]
  },
  {
   "cell_type": "code",
   "execution_count": 167,
   "metadata": {},
   "outputs": [
    {
     "data": {
      "text/plain": [
       "C     1828\n",
       "CA     225\n",
       "Name: Nature, dtype: int64"
      ]
     },
     "execution_count": 167,
     "metadata": {},
     "output_type": "execute_result"
    }
   ],
   "source": [
    "filtered.Nature.value_counts()"
   ]
  },
  {
   "cell_type": "code",
   "execution_count": 170,
   "metadata": {},
   "outputs": [
    {
     "data": {
      "text/html": [
       "<div>\n",
       "<style scoped>\n",
       "    .dataframe tbody tr th:only-of-type {\n",
       "        vertical-align: middle;\n",
       "    }\n",
       "\n",
       "    .dataframe tbody tr th {\n",
       "        vertical-align: top;\n",
       "    }\n",
       "\n",
       "    .dataframe thead th {\n",
       "        text-align: right;\n",
       "    }\n",
       "</style>\n",
       "<table border=\"1\" class=\"dataframe\">\n",
       "  <thead>\n",
       "    <tr style=\"text-align: right;\">\n",
       "      <th></th>\n",
       "      <th>GeoAreaCode</th>\n",
       "      <th>TimePeriod</th>\n",
       "      <th>Value</th>\n",
       "      <th>UpperBound</th>\n",
       "      <th>LowerBound</th>\n",
       "      <th>BasePeriod</th>\n",
       "    </tr>\n",
       "    <tr>\n",
       "      <th>Nature</th>\n",
       "      <th></th>\n",
       "      <th></th>\n",
       "      <th></th>\n",
       "      <th></th>\n",
       "      <th></th>\n",
       "      <th></th>\n",
       "    </tr>\n",
       "  </thead>\n",
       "  <tbody>\n",
       "    <tr>\n",
       "      <td>C</td>\n",
       "      <td>481.945295</td>\n",
       "      <td>2010.873085</td>\n",
       "      <td>10.684667</td>\n",
       "      <td>NaN</td>\n",
       "      <td>NaN</td>\n",
       "      <td>NaN</td>\n",
       "    </tr>\n",
       "    <tr>\n",
       "      <td>CA</td>\n",
       "      <td>400.244444</td>\n",
       "      <td>2009.902222</td>\n",
       "      <td>10.040779</td>\n",
       "      <td>NaN</td>\n",
       "      <td>NaN</td>\n",
       "      <td>NaN</td>\n",
       "    </tr>\n",
       "  </tbody>\n",
       "</table>\n",
       "</div>"
      ],
      "text/plain": [
       "        GeoAreaCode   TimePeriod      Value   UpperBound   LowerBound  \\\n",
       "Nature                                                                  \n",
       "C        481.945295  2010.873085  10.684667          NaN          NaN   \n",
       "CA       400.244444  2009.902222  10.040779          NaN          NaN   \n",
       "\n",
       "         BasePeriod  \n",
       "Nature               \n",
       "C               NaN  \n",
       "CA              NaN  "
      ]
     },
     "execution_count": 170,
     "metadata": {},
     "output_type": "execute_result"
    }
   ],
   "source": [
    "filtered.groupby('Nature').agg('mean')"
   ]
  },
  {
   "cell_type": "code",
   "execution_count": 173,
   "metadata": {},
   "outputs": [
    {
     "data": {
      "text/plain": [
       "ALLAREA    201\n",
       "URBAN       12\n",
       "RURAL       12\n",
       "Name: [Location], dtype: int64"
      ]
     },
     "execution_count": 173,
     "metadata": {},
     "output_type": "execute_result"
    }
   ],
   "source": [
    "filtered.loc[filtered.Nature == 'CA', '[Location]'].value_counts()"
   ]
  },
  {
   "cell_type": "code",
   "execution_count": 179,
   "metadata": {},
   "outputs": [],
   "source": [
    "filtered = filtered.loc[:, [x for x in column_renamer.keys()]]"
   ]
  },
  {
   "cell_type": "code",
   "execution_count": 181,
   "metadata": {},
   "outputs": [],
   "source": [
    "filtered.rename(columns=column_renamer, inplace = True)"
   ]
  },
  {
   "cell_type": "code",
   "execution_count": 184,
   "metadata": {},
   "outputs": [
    {
     "data": {
      "text/plain": [
       "array(['MALE', 'FEMALE'], dtype=object)"
      ]
     },
     "execution_count": 184,
     "metadata": {},
     "output_type": "execute_result"
    }
   ],
   "source": [
    "filtered"
   ]
  },
  {
   "cell_type": "code",
   "execution_count": 185,
   "metadata": {},
   "outputs": [],
   "source": [
    "filtered.to_csv('UN5/filtered_dataset')"
   ]
  },
  {
   "cell_type": "code",
   "execution_count": null,
   "metadata": {},
   "outputs": [],
   "source": []
  }
 ],
 "metadata": {
  "kernelspec": {
   "display_name": "Python 3",
   "language": "python",
   "name": "python3"
  },
  "language_info": {
   "codemirror_mode": {
    "name": "ipython",
    "version": 3
   },
   "file_extension": ".py",
   "mimetype": "text/x-python",
   "name": "python",
   "nbconvert_exporter": "python",
   "pygments_lexer": "ipython3",
   "version": "3.7.4"
  }
 },
 "nbformat": 4,
 "nbformat_minor": 2
}
